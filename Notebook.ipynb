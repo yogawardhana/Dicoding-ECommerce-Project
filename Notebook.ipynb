{
 "cells": [
  {
   "cell_type": "markdown",
   "metadata": {},
   "source": [
    "# Proyek Analisis Data: E-Commerce Public Dataset\n",
    "- Nama:Yoga Kusuma Wardhana\n",
    "- Email: yogawardh@gmail.com\n",
    "- Id Dicoding: yogawardh"
   ]
  },
  {
   "cell_type": "markdown",
   "metadata": {},
   "source": [
    "## Menentukan Pertanyaan Bisnis"
   ]
  },
  {
   "cell_type": "markdown",
   "metadata": {},
   "source": [
    "- Pertanyaan 1: Metode pembayaran apa yang paling banyak digunakan pada transaksi?\n",
    "- Pertanyaan 2: Bagaimana distribusi segmentasi pelanggan berdasarkan total pembelian?\n",
    "- Pertanyaan 3: Kategori produk apa yang paling banyak dan paling sedikit terjual?"
   ]
  },
  {
   "cell_type": "markdown",
   "metadata": {},
   "source": [
    "## Menyiapkan semua library yang dibutuhkan"
   ]
  },
  {
   "cell_type": "code",
   "execution_count": 1,
   "metadata": {},
   "outputs": [],
   "source": [
    "# Import libraries\n",
    "\n",
    "import pandas as pd\n",
    "import matplotlib.pyplot as plt\n",
    "import seaborn as sns\n",
    "import streamlit as st"
   ]
  },
  {
   "cell_type": "markdown",
   "metadata": {},
   "source": [
    "## Data Wrangling"
   ]
  },
  {
   "cell_type": "markdown",
   "metadata": {},
   "source": [
    "### Gathering Data"
   ]
  },
  {
   "cell_type": "code",
   "execution_count": 2,
   "metadata": {},
   "outputs": [
    {
     "data": {
      "text/html": [
       "<div>\n",
       "<style scoped>\n",
       "    .dataframe tbody tr th:only-of-type {\n",
       "        vertical-align: middle;\n",
       "    }\n",
       "\n",
       "    .dataframe tbody tr th {\n",
       "        vertical-align: top;\n",
       "    }\n",
       "\n",
       "    .dataframe thead th {\n",
       "        text-align: right;\n",
       "    }\n",
       "</style>\n",
       "<table border=\"1\" class=\"dataframe\">\n",
       "  <thead>\n",
       "    <tr style=\"text-align: right;\">\n",
       "      <th></th>\n",
       "      <th>order_id</th>\n",
       "      <th>customer_id</th>\n",
       "      <th>order_status</th>\n",
       "      <th>order_purchase_timestamp</th>\n",
       "      <th>order_approved_at</th>\n",
       "      <th>order_delivered_carrier_date</th>\n",
       "      <th>order_delivered_customer_date</th>\n",
       "      <th>order_estimated_delivery_date</th>\n",
       "    </tr>\n",
       "  </thead>\n",
       "  <tbody>\n",
       "    <tr>\n",
       "      <th>0</th>\n",
       "      <td>e481f51cbdc54678b7cc49136f2d6af7</td>\n",
       "      <td>9ef432eb6251297304e76186b10a928d</td>\n",
       "      <td>delivered</td>\n",
       "      <td>2017-10-02 10:56:33</td>\n",
       "      <td>2017-10-02 11:07:15</td>\n",
       "      <td>2017-10-04 19:55:00</td>\n",
       "      <td>2017-10-10 21:25:13</td>\n",
       "      <td>2017-10-18 00:00:00</td>\n",
       "    </tr>\n",
       "    <tr>\n",
       "      <th>1</th>\n",
       "      <td>53cdb2fc8bc7dce0b6741e2150273451</td>\n",
       "      <td>b0830fb4747a6c6d20dea0b8c802d7ef</td>\n",
       "      <td>delivered</td>\n",
       "      <td>2018-07-24 20:41:37</td>\n",
       "      <td>2018-07-26 03:24:27</td>\n",
       "      <td>2018-07-26 14:31:00</td>\n",
       "      <td>2018-08-07 15:27:45</td>\n",
       "      <td>2018-08-13 00:00:00</td>\n",
       "    </tr>\n",
       "    <tr>\n",
       "      <th>2</th>\n",
       "      <td>47770eb9100c2d0c44946d9cf07ec65d</td>\n",
       "      <td>41ce2a54c0b03bf3443c3d931a367089</td>\n",
       "      <td>delivered</td>\n",
       "      <td>2018-08-08 08:38:49</td>\n",
       "      <td>2018-08-08 08:55:23</td>\n",
       "      <td>2018-08-08 13:50:00</td>\n",
       "      <td>2018-08-17 18:06:29</td>\n",
       "      <td>2018-09-04 00:00:00</td>\n",
       "    </tr>\n",
       "    <tr>\n",
       "      <th>3</th>\n",
       "      <td>949d5b44dbf5de918fe9c16f97b45f8a</td>\n",
       "      <td>f88197465ea7920adcdbec7375364d82</td>\n",
       "      <td>delivered</td>\n",
       "      <td>2017-11-18 19:28:06</td>\n",
       "      <td>2017-11-18 19:45:59</td>\n",
       "      <td>2017-11-22 13:39:59</td>\n",
       "      <td>2017-12-02 00:28:42</td>\n",
       "      <td>2017-12-15 00:00:00</td>\n",
       "    </tr>\n",
       "    <tr>\n",
       "      <th>4</th>\n",
       "      <td>ad21c59c0840e6cb83a9ceb5573f8159</td>\n",
       "      <td>8ab97904e6daea8866dbdbc4fb7aad2c</td>\n",
       "      <td>delivered</td>\n",
       "      <td>2018-02-13 21:18:39</td>\n",
       "      <td>2018-02-13 22:20:29</td>\n",
       "      <td>2018-02-14 19:46:34</td>\n",
       "      <td>2018-02-16 18:17:02</td>\n",
       "      <td>2018-02-26 00:00:00</td>\n",
       "    </tr>\n",
       "  </tbody>\n",
       "</table>\n",
       "</div>"
      ],
      "text/plain": [
       "                           order_id                       customer_id  \\\n",
       "0  e481f51cbdc54678b7cc49136f2d6af7  9ef432eb6251297304e76186b10a928d   \n",
       "1  53cdb2fc8bc7dce0b6741e2150273451  b0830fb4747a6c6d20dea0b8c802d7ef   \n",
       "2  47770eb9100c2d0c44946d9cf07ec65d  41ce2a54c0b03bf3443c3d931a367089   \n",
       "3  949d5b44dbf5de918fe9c16f97b45f8a  f88197465ea7920adcdbec7375364d82   \n",
       "4  ad21c59c0840e6cb83a9ceb5573f8159  8ab97904e6daea8866dbdbc4fb7aad2c   \n",
       "\n",
       "  order_status order_purchase_timestamp    order_approved_at  \\\n",
       "0    delivered      2017-10-02 10:56:33  2017-10-02 11:07:15   \n",
       "1    delivered      2018-07-24 20:41:37  2018-07-26 03:24:27   \n",
       "2    delivered      2018-08-08 08:38:49  2018-08-08 08:55:23   \n",
       "3    delivered      2017-11-18 19:28:06  2017-11-18 19:45:59   \n",
       "4    delivered      2018-02-13 21:18:39  2018-02-13 22:20:29   \n",
       "\n",
       "  order_delivered_carrier_date order_delivered_customer_date  \\\n",
       "0          2017-10-04 19:55:00           2017-10-10 21:25:13   \n",
       "1          2018-07-26 14:31:00           2018-08-07 15:27:45   \n",
       "2          2018-08-08 13:50:00           2018-08-17 18:06:29   \n",
       "3          2017-11-22 13:39:59           2017-12-02 00:28:42   \n",
       "4          2018-02-14 19:46:34           2018-02-16 18:17:02   \n",
       "\n",
       "  order_estimated_delivery_date  \n",
       "0           2017-10-18 00:00:00  \n",
       "1           2018-08-13 00:00:00  \n",
       "2           2018-09-04 00:00:00  \n",
       "3           2017-12-15 00:00:00  \n",
       "4           2018-02-26 00:00:00  "
      ]
     },
     "execution_count": 2,
     "metadata": {},
     "output_type": "execute_result"
    }
   ],
   "source": [
    "# Memuat tabel orders\n",
    "\n",
    "orders_df = pd.read_csv(r\"C:\\Users\\Yoga\\Data Analytics\\Dicoding\\Proyek Tugas Akhir\\E-commerce-public-dataset\\orders_dataset.csv\")\n",
    "orders_df.head()"
   ]
  },
  {
   "cell_type": "code",
   "execution_count": 3,
   "metadata": {},
   "outputs": [
    {
     "data": {
      "text/html": [
       "<div>\n",
       "<style scoped>\n",
       "    .dataframe tbody tr th:only-of-type {\n",
       "        vertical-align: middle;\n",
       "    }\n",
       "\n",
       "    .dataframe tbody tr th {\n",
       "        vertical-align: top;\n",
       "    }\n",
       "\n",
       "    .dataframe thead th {\n",
       "        text-align: right;\n",
       "    }\n",
       "</style>\n",
       "<table border=\"1\" class=\"dataframe\">\n",
       "  <thead>\n",
       "    <tr style=\"text-align: right;\">\n",
       "      <th></th>\n",
       "      <th>order_id</th>\n",
       "      <th>order_item_id</th>\n",
       "      <th>product_id</th>\n",
       "      <th>seller_id</th>\n",
       "      <th>shipping_limit_date</th>\n",
       "      <th>price</th>\n",
       "      <th>freight_value</th>\n",
       "    </tr>\n",
       "  </thead>\n",
       "  <tbody>\n",
       "    <tr>\n",
       "      <th>0</th>\n",
       "      <td>00010242fe8c5a6d1ba2dd792cb16214</td>\n",
       "      <td>1</td>\n",
       "      <td>4244733e06e7ecb4970a6e2683c13e61</td>\n",
       "      <td>48436dade18ac8b2bce089ec2a041202</td>\n",
       "      <td>2017-09-19 09:45:35</td>\n",
       "      <td>58.90</td>\n",
       "      <td>13.29</td>\n",
       "    </tr>\n",
       "    <tr>\n",
       "      <th>1</th>\n",
       "      <td>00018f77f2f0320c557190d7a144bdd3</td>\n",
       "      <td>1</td>\n",
       "      <td>e5f2d52b802189ee658865ca93d83a8f</td>\n",
       "      <td>dd7ddc04e1b6c2c614352b383efe2d36</td>\n",
       "      <td>2017-05-03 11:05:13</td>\n",
       "      <td>239.90</td>\n",
       "      <td>19.93</td>\n",
       "    </tr>\n",
       "    <tr>\n",
       "      <th>2</th>\n",
       "      <td>000229ec398224ef6ca0657da4fc703e</td>\n",
       "      <td>1</td>\n",
       "      <td>c777355d18b72b67abbeef9df44fd0fd</td>\n",
       "      <td>5b51032eddd242adc84c38acab88f23d</td>\n",
       "      <td>2018-01-18 14:48:30</td>\n",
       "      <td>199.00</td>\n",
       "      <td>17.87</td>\n",
       "    </tr>\n",
       "    <tr>\n",
       "      <th>3</th>\n",
       "      <td>00024acbcdf0a6daa1e931b038114c75</td>\n",
       "      <td>1</td>\n",
       "      <td>7634da152a4610f1595efa32f14722fc</td>\n",
       "      <td>9d7a1d34a5052409006425275ba1c2b4</td>\n",
       "      <td>2018-08-15 10:10:18</td>\n",
       "      <td>12.99</td>\n",
       "      <td>12.79</td>\n",
       "    </tr>\n",
       "    <tr>\n",
       "      <th>4</th>\n",
       "      <td>00042b26cf59d7ce69dfabb4e55b4fd9</td>\n",
       "      <td>1</td>\n",
       "      <td>ac6c3623068f30de03045865e4e10089</td>\n",
       "      <td>df560393f3a51e74553ab94004ba5c87</td>\n",
       "      <td>2017-02-13 13:57:51</td>\n",
       "      <td>199.90</td>\n",
       "      <td>18.14</td>\n",
       "    </tr>\n",
       "  </tbody>\n",
       "</table>\n",
       "</div>"
      ],
      "text/plain": [
       "                           order_id  order_item_id  \\\n",
       "0  00010242fe8c5a6d1ba2dd792cb16214              1   \n",
       "1  00018f77f2f0320c557190d7a144bdd3              1   \n",
       "2  000229ec398224ef6ca0657da4fc703e              1   \n",
       "3  00024acbcdf0a6daa1e931b038114c75              1   \n",
       "4  00042b26cf59d7ce69dfabb4e55b4fd9              1   \n",
       "\n",
       "                         product_id                         seller_id  \\\n",
       "0  4244733e06e7ecb4970a6e2683c13e61  48436dade18ac8b2bce089ec2a041202   \n",
       "1  e5f2d52b802189ee658865ca93d83a8f  dd7ddc04e1b6c2c614352b383efe2d36   \n",
       "2  c777355d18b72b67abbeef9df44fd0fd  5b51032eddd242adc84c38acab88f23d   \n",
       "3  7634da152a4610f1595efa32f14722fc  9d7a1d34a5052409006425275ba1c2b4   \n",
       "4  ac6c3623068f30de03045865e4e10089  df560393f3a51e74553ab94004ba5c87   \n",
       "\n",
       "   shipping_limit_date   price  freight_value  \n",
       "0  2017-09-19 09:45:35   58.90          13.29  \n",
       "1  2017-05-03 11:05:13  239.90          19.93  \n",
       "2  2018-01-18 14:48:30  199.00          17.87  \n",
       "3  2018-08-15 10:10:18   12.99          12.79  \n",
       "4  2017-02-13 13:57:51  199.90          18.14  "
      ]
     },
     "execution_count": 3,
     "metadata": {},
     "output_type": "execute_result"
    }
   ],
   "source": [
    "# Memuat tabel order_items\n",
    "\n",
    "order_items_df = pd.read_csv(r\"C:\\Users\\Yoga\\Data Analytics\\Dicoding\\Proyek Tugas Akhir\\E-commerce-public-dataset\\order_items_dataset.csv\")\n",
    "order_items_df.head()"
   ]
  },
  {
   "cell_type": "code",
   "execution_count": 4,
   "metadata": {},
   "outputs": [
    {
     "data": {
      "text/html": [
       "<div>\n",
       "<style scoped>\n",
       "    .dataframe tbody tr th:only-of-type {\n",
       "        vertical-align: middle;\n",
       "    }\n",
       "\n",
       "    .dataframe tbody tr th {\n",
       "        vertical-align: top;\n",
       "    }\n",
       "\n",
       "    .dataframe thead th {\n",
       "        text-align: right;\n",
       "    }\n",
       "</style>\n",
       "<table border=\"1\" class=\"dataframe\">\n",
       "  <thead>\n",
       "    <tr style=\"text-align: right;\">\n",
       "      <th></th>\n",
       "      <th>order_id</th>\n",
       "      <th>payment_sequential</th>\n",
       "      <th>payment_type</th>\n",
       "      <th>payment_installments</th>\n",
       "      <th>payment_value</th>\n",
       "    </tr>\n",
       "  </thead>\n",
       "  <tbody>\n",
       "    <tr>\n",
       "      <th>0</th>\n",
       "      <td>b81ef226f3fe1789b1e8b2acac839d17</td>\n",
       "      <td>1</td>\n",
       "      <td>credit_card</td>\n",
       "      <td>8</td>\n",
       "      <td>99.33</td>\n",
       "    </tr>\n",
       "    <tr>\n",
       "      <th>1</th>\n",
       "      <td>a9810da82917af2d9aefd1278f1dcfa0</td>\n",
       "      <td>1</td>\n",
       "      <td>credit_card</td>\n",
       "      <td>1</td>\n",
       "      <td>24.39</td>\n",
       "    </tr>\n",
       "    <tr>\n",
       "      <th>2</th>\n",
       "      <td>25e8ea4e93396b6fa0d3dd708e76c1bd</td>\n",
       "      <td>1</td>\n",
       "      <td>credit_card</td>\n",
       "      <td>1</td>\n",
       "      <td>65.71</td>\n",
       "    </tr>\n",
       "    <tr>\n",
       "      <th>3</th>\n",
       "      <td>ba78997921bbcdc1373bb41e913ab953</td>\n",
       "      <td>1</td>\n",
       "      <td>credit_card</td>\n",
       "      <td>8</td>\n",
       "      <td>107.78</td>\n",
       "    </tr>\n",
       "    <tr>\n",
       "      <th>4</th>\n",
       "      <td>42fdf880ba16b47b59251dd489d4441a</td>\n",
       "      <td>1</td>\n",
       "      <td>credit_card</td>\n",
       "      <td>2</td>\n",
       "      <td>128.45</td>\n",
       "    </tr>\n",
       "  </tbody>\n",
       "</table>\n",
       "</div>"
      ],
      "text/plain": [
       "                           order_id  payment_sequential payment_type  \\\n",
       "0  b81ef226f3fe1789b1e8b2acac839d17                   1  credit_card   \n",
       "1  a9810da82917af2d9aefd1278f1dcfa0                   1  credit_card   \n",
       "2  25e8ea4e93396b6fa0d3dd708e76c1bd                   1  credit_card   \n",
       "3  ba78997921bbcdc1373bb41e913ab953                   1  credit_card   \n",
       "4  42fdf880ba16b47b59251dd489d4441a                   1  credit_card   \n",
       "\n",
       "   payment_installments  payment_value  \n",
       "0                     8          99.33  \n",
       "1                     1          24.39  \n",
       "2                     1          65.71  \n",
       "3                     8         107.78  \n",
       "4                     2         128.45  "
      ]
     },
     "execution_count": 4,
     "metadata": {},
     "output_type": "execute_result"
    }
   ],
   "source": [
    "# Memuat tabel order_payments\n",
    "\n",
    "order_payments_df = pd.read_csv(r\"C:\\Users\\Yoga\\Data Analytics\\Dicoding\\Proyek Tugas Akhir\\E-commerce-public-dataset\\order_payments_dataset.csv\")\n",
    "order_payments_df.head()"
   ]
  },
  {
   "cell_type": "code",
   "execution_count": 5,
   "metadata": {},
   "outputs": [
    {
     "data": {
      "text/html": [
       "<div>\n",
       "<style scoped>\n",
       "    .dataframe tbody tr th:only-of-type {\n",
       "        vertical-align: middle;\n",
       "    }\n",
       "\n",
       "    .dataframe tbody tr th {\n",
       "        vertical-align: top;\n",
       "    }\n",
       "\n",
       "    .dataframe thead th {\n",
       "        text-align: right;\n",
       "    }\n",
       "</style>\n",
       "<table border=\"1\" class=\"dataframe\">\n",
       "  <thead>\n",
       "    <tr style=\"text-align: right;\">\n",
       "      <th></th>\n",
       "      <th>product_id</th>\n",
       "      <th>product_category_name</th>\n",
       "      <th>product_name_lenght</th>\n",
       "      <th>product_description_lenght</th>\n",
       "      <th>product_photos_qty</th>\n",
       "      <th>product_weight_g</th>\n",
       "      <th>product_length_cm</th>\n",
       "      <th>product_height_cm</th>\n",
       "      <th>product_width_cm</th>\n",
       "    </tr>\n",
       "  </thead>\n",
       "  <tbody>\n",
       "    <tr>\n",
       "      <th>0</th>\n",
       "      <td>1e9e8ef04dbcff4541ed26657ea517e5</td>\n",
       "      <td>perfumaria</td>\n",
       "      <td>40.0</td>\n",
       "      <td>287.0</td>\n",
       "      <td>1.0</td>\n",
       "      <td>225.0</td>\n",
       "      <td>16.0</td>\n",
       "      <td>10.0</td>\n",
       "      <td>14.0</td>\n",
       "    </tr>\n",
       "    <tr>\n",
       "      <th>1</th>\n",
       "      <td>3aa071139cb16b67ca9e5dea641aaa2f</td>\n",
       "      <td>artes</td>\n",
       "      <td>44.0</td>\n",
       "      <td>276.0</td>\n",
       "      <td>1.0</td>\n",
       "      <td>1000.0</td>\n",
       "      <td>30.0</td>\n",
       "      <td>18.0</td>\n",
       "      <td>20.0</td>\n",
       "    </tr>\n",
       "    <tr>\n",
       "      <th>2</th>\n",
       "      <td>96bd76ec8810374ed1b65e291975717f</td>\n",
       "      <td>esporte_lazer</td>\n",
       "      <td>46.0</td>\n",
       "      <td>250.0</td>\n",
       "      <td>1.0</td>\n",
       "      <td>154.0</td>\n",
       "      <td>18.0</td>\n",
       "      <td>9.0</td>\n",
       "      <td>15.0</td>\n",
       "    </tr>\n",
       "    <tr>\n",
       "      <th>3</th>\n",
       "      <td>cef67bcfe19066a932b7673e239eb23d</td>\n",
       "      <td>bebes</td>\n",
       "      <td>27.0</td>\n",
       "      <td>261.0</td>\n",
       "      <td>1.0</td>\n",
       "      <td>371.0</td>\n",
       "      <td>26.0</td>\n",
       "      <td>4.0</td>\n",
       "      <td>26.0</td>\n",
       "    </tr>\n",
       "    <tr>\n",
       "      <th>4</th>\n",
       "      <td>9dc1a7de274444849c219cff195d0b71</td>\n",
       "      <td>utilidades_domesticas</td>\n",
       "      <td>37.0</td>\n",
       "      <td>402.0</td>\n",
       "      <td>4.0</td>\n",
       "      <td>625.0</td>\n",
       "      <td>20.0</td>\n",
       "      <td>17.0</td>\n",
       "      <td>13.0</td>\n",
       "    </tr>\n",
       "  </tbody>\n",
       "</table>\n",
       "</div>"
      ],
      "text/plain": [
       "                         product_id  product_category_name  \\\n",
       "0  1e9e8ef04dbcff4541ed26657ea517e5             perfumaria   \n",
       "1  3aa071139cb16b67ca9e5dea641aaa2f                  artes   \n",
       "2  96bd76ec8810374ed1b65e291975717f          esporte_lazer   \n",
       "3  cef67bcfe19066a932b7673e239eb23d                  bebes   \n",
       "4  9dc1a7de274444849c219cff195d0b71  utilidades_domesticas   \n",
       "\n",
       "   product_name_lenght  product_description_lenght  product_photos_qty  \\\n",
       "0                 40.0                       287.0                 1.0   \n",
       "1                 44.0                       276.0                 1.0   \n",
       "2                 46.0                       250.0                 1.0   \n",
       "3                 27.0                       261.0                 1.0   \n",
       "4                 37.0                       402.0                 4.0   \n",
       "\n",
       "   product_weight_g  product_length_cm  product_height_cm  product_width_cm  \n",
       "0             225.0               16.0               10.0              14.0  \n",
       "1            1000.0               30.0               18.0              20.0  \n",
       "2             154.0               18.0                9.0              15.0  \n",
       "3             371.0               26.0                4.0              26.0  \n",
       "4             625.0               20.0               17.0              13.0  "
      ]
     },
     "execution_count": 5,
     "metadata": {},
     "output_type": "execute_result"
    }
   ],
   "source": [
    "# Memuat tabel products\n",
    "\n",
    "products_df = pd.read_csv(r\"C:\\Users\\Yoga\\Data Analytics\\Dicoding\\Proyek Tugas Akhir\\E-commerce-public-dataset\\products_dataset.csv\")\n",
    "products_df.head()"
   ]
  },
  {
   "cell_type": "markdown",
   "metadata": {},
   "source": [
    "#### Data yang akan digunakan:\n",
    "\n",
    "Dari 2 pertanyaan yang saya buat, kita hanya memerlukan 4 dataframe di atas yaitu **orders_dataset, order_items_dataset, order_payments_dataset, dan products_dataset.** Dikarenakan dari orders_dataset kita sudah bisa menemukan customer_id jadi kita tidak memerlukan customers_dataset untuk mengetahui jumlah customers.\n",
    "\n",
    "- Untuk menjawab pertanyaan 1 saya memerlukan **order_id dan payment_type** dari **order_payments_dataset.**\n",
    "\n",
    "- Untuk menjawab pertanyaan 2 saya memerlukan **customer_id dan order_id** dari **orders_dataset** dan **order_id dan payment_value** dari **order_payments_dataset.**\n",
    "\n",
    "- Untuk menjawab pertanyaan 3 saya memerlukan **order_id dan order_status** dari **orders_dataset**, **order_id dan product_id** dari **order_items_dataset**, serta **product_id dan product_category_name** dari **products_dataset.**"
   ]
  },
  {
   "cell_type": "code",
   "execution_count": null,
   "metadata": {},
   "outputs": [],
   "source": []
  },
  {
   "cell_type": "markdown",
   "metadata": {},
   "source": [
    "### Assessing Data"
   ]
  },
  {
   "cell_type": "markdown",
   "metadata": {},
   "source": [
    "#### Orders Table"
   ]
  },
  {
   "cell_type": "code",
   "execution_count": 6,
   "metadata": {},
   "outputs": [
    {
     "name": "stdout",
     "output_type": "stream",
     "text": [
      "<class 'pandas.core.frame.DataFrame'>\n",
      "RangeIndex: 99441 entries, 0 to 99440\n",
      "Data columns (total 8 columns):\n",
      " #   Column                         Non-Null Count  Dtype \n",
      "---  ------                         --------------  ----- \n",
      " 0   order_id                       99441 non-null  object\n",
      " 1   customer_id                    99441 non-null  object\n",
      " 2   order_status                   99441 non-null  object\n",
      " 3   order_purchase_timestamp       99441 non-null  object\n",
      " 4   order_approved_at              99281 non-null  object\n",
      " 5   order_delivered_carrier_date   97658 non-null  object\n",
      " 6   order_delivered_customer_date  96476 non-null  object\n",
      " 7   order_estimated_delivery_date  99441 non-null  object\n",
      "dtypes: object(8)\n",
      "memory usage: 6.1+ MB\n"
     ]
    }
   ],
   "source": [
    "# Memeriksa orders dataframe\n",
    "\n",
    "orders_df.info()"
   ]
  },
  {
   "cell_type": "code",
   "execution_count": 7,
   "metadata": {},
   "outputs": [
    {
     "name": "stdout",
     "output_type": "stream",
     "text": [
      "Jumlah duplikasi:  0\n"
     ]
    }
   ],
   "source": [
    "# Memeriksa duplicates\n",
    "\n",
    "print(\"Jumlah duplikasi: \", orders_df.duplicated().sum())"
   ]
  },
  {
   "cell_type": "code",
   "execution_count": 8,
   "metadata": {},
   "outputs": [
    {
     "data": {
      "text/plain": [
       "order_id                            0\n",
       "customer_id                         0\n",
       "order_status                        0\n",
       "order_purchase_timestamp            0\n",
       "order_approved_at                 160\n",
       "order_delivered_carrier_date     1783\n",
       "order_delivered_customer_date    2965\n",
       "order_estimated_delivery_date       0\n",
       "dtype: int64"
      ]
     },
     "execution_count": 8,
     "metadata": {},
     "output_type": "execute_result"
    }
   ],
   "source": [
    "# Memeriksa null values\n",
    "\n",
    "orders_df.isna().sum()"
   ]
  },
  {
   "cell_type": "markdown",
   "metadata": {},
   "source": [
    "##### orders table - terdapat missing values"
   ]
  },
  {
   "cell_type": "code",
   "execution_count": null,
   "metadata": {},
   "outputs": [],
   "source": []
  },
  {
   "cell_type": "markdown",
   "metadata": {},
   "source": [
    "#### Order Items Table"
   ]
  },
  {
   "cell_type": "code",
   "execution_count": 9,
   "metadata": {},
   "outputs": [
    {
     "name": "stdout",
     "output_type": "stream",
     "text": [
      "<class 'pandas.core.frame.DataFrame'>\n",
      "RangeIndex: 112650 entries, 0 to 112649\n",
      "Data columns (total 7 columns):\n",
      " #   Column               Non-Null Count   Dtype  \n",
      "---  ------               --------------   -----  \n",
      " 0   order_id             112650 non-null  object \n",
      " 1   order_item_id        112650 non-null  int64  \n",
      " 2   product_id           112650 non-null  object \n",
      " 3   seller_id            112650 non-null  object \n",
      " 4   shipping_limit_date  112650 non-null  object \n",
      " 5   price                112650 non-null  float64\n",
      " 6   freight_value        112650 non-null  float64\n",
      "dtypes: float64(2), int64(1), object(4)\n",
      "memory usage: 6.0+ MB\n"
     ]
    }
   ],
   "source": [
    "# Memeriksa order_items dataframe\n",
    "\n",
    "order_items_df.info()"
   ]
  },
  {
   "cell_type": "code",
   "execution_count": 10,
   "metadata": {},
   "outputs": [
    {
     "name": "stdout",
     "output_type": "stream",
     "text": [
      "Jumlah duplikasi:  0\n"
     ]
    }
   ],
   "source": [
    "# Memeriksa duplicates\n",
    "\n",
    "print(\"Jumlah duplikasi: \", order_items_df.duplicated().sum())"
   ]
  },
  {
   "cell_type": "markdown",
   "metadata": {},
   "source": [
    "##### order_items table - lengkap"
   ]
  },
  {
   "cell_type": "code",
   "execution_count": null,
   "metadata": {},
   "outputs": [],
   "source": []
  },
  {
   "cell_type": "markdown",
   "metadata": {},
   "source": [
    "#### Order Payments Table"
   ]
  },
  {
   "cell_type": "code",
   "execution_count": 11,
   "metadata": {},
   "outputs": [
    {
     "name": "stdout",
     "output_type": "stream",
     "text": [
      "<class 'pandas.core.frame.DataFrame'>\n",
      "RangeIndex: 103886 entries, 0 to 103885\n",
      "Data columns (total 5 columns):\n",
      " #   Column                Non-Null Count   Dtype  \n",
      "---  ------                --------------   -----  \n",
      " 0   order_id              103886 non-null  object \n",
      " 1   payment_sequential    103886 non-null  int64  \n",
      " 2   payment_type          103886 non-null  object \n",
      " 3   payment_installments  103886 non-null  int64  \n",
      " 4   payment_value         103886 non-null  float64\n",
      "dtypes: float64(1), int64(2), object(2)\n",
      "memory usage: 4.0+ MB\n"
     ]
    }
   ],
   "source": [
    "# Memeriksa order_payments dataframe\n",
    "\n",
    "order_payments_df.info()"
   ]
  },
  {
   "cell_type": "code",
   "execution_count": 12,
   "metadata": {},
   "outputs": [
    {
     "name": "stdout",
     "output_type": "stream",
     "text": [
      "Jumlah duplikasi:  0\n"
     ]
    }
   ],
   "source": [
    "# Memeriksa duplicates\n",
    "\n",
    "print(\"Jumlah duplikasi: \", order_payments_df.duplicated().sum())"
   ]
  },
  {
   "cell_type": "code",
   "execution_count": 13,
   "metadata": {},
   "outputs": [
    {
     "name": "stdout",
     "output_type": "stream",
     "text": [
      "5\n"
     ]
    }
   ],
   "source": [
    "# Memeriksa jumlah tipe pembayaran\n",
    "\n",
    "print(order_payments_df['payment_type'].nunique())"
   ]
  },
  {
   "cell_type": "markdown",
   "metadata": {},
   "source": [
    "##### order_payments table - lengkap"
   ]
  },
  {
   "cell_type": "code",
   "execution_count": null,
   "metadata": {},
   "outputs": [],
   "source": []
  },
  {
   "cell_type": "markdown",
   "metadata": {},
   "source": [
    "#### Products Table"
   ]
  },
  {
   "cell_type": "code",
   "execution_count": 14,
   "metadata": {},
   "outputs": [
    {
     "name": "stdout",
     "output_type": "stream",
     "text": [
      "<class 'pandas.core.frame.DataFrame'>\n",
      "RangeIndex: 32951 entries, 0 to 32950\n",
      "Data columns (total 9 columns):\n",
      " #   Column                      Non-Null Count  Dtype  \n",
      "---  ------                      --------------  -----  \n",
      " 0   product_id                  32951 non-null  object \n",
      " 1   product_category_name       32341 non-null  object \n",
      " 2   product_name_lenght         32341 non-null  float64\n",
      " 3   product_description_lenght  32341 non-null  float64\n",
      " 4   product_photos_qty          32341 non-null  float64\n",
      " 5   product_weight_g            32949 non-null  float64\n",
      " 6   product_length_cm           32949 non-null  float64\n",
      " 7   product_height_cm           32949 non-null  float64\n",
      " 8   product_width_cm            32949 non-null  float64\n",
      "dtypes: float64(7), object(2)\n",
      "memory usage: 2.3+ MB\n"
     ]
    }
   ],
   "source": [
    "# Memeriksa products dataframe\n",
    "\n",
    "products_df.info()"
   ]
  },
  {
   "cell_type": "code",
   "execution_count": 15,
   "metadata": {},
   "outputs": [
    {
     "name": "stdout",
     "output_type": "stream",
     "text": [
      "Jumlah duplikasi:  0\n"
     ]
    }
   ],
   "source": [
    "# Memeriksa duplicates\n",
    "\n",
    "print(\"Jumlah duplikasi: \", products_df.duplicated().sum())"
   ]
  },
  {
   "cell_type": "code",
   "execution_count": 16,
   "metadata": {},
   "outputs": [
    {
     "data": {
      "text/plain": [
       "product_id                      0\n",
       "product_category_name         610\n",
       "product_name_lenght           610\n",
       "product_description_lenght    610\n",
       "product_photos_qty            610\n",
       "product_weight_g                2\n",
       "product_length_cm               2\n",
       "product_height_cm               2\n",
       "product_width_cm                2\n",
       "dtype: int64"
      ]
     },
     "execution_count": 16,
     "metadata": {},
     "output_type": "execute_result"
    }
   ],
   "source": [
    "# Memeriksa null values\n",
    "\n",
    "products_df.isna().sum()"
   ]
  },
  {
   "cell_type": "markdown",
   "metadata": {},
   "source": [
    "##### products table - terdapat missing values"
   ]
  },
  {
   "cell_type": "code",
   "execution_count": null,
   "metadata": {},
   "outputs": [],
   "source": []
  },
  {
   "cell_type": "markdown",
   "metadata": {},
   "source": [
    "### Cleaning Data"
   ]
  },
  {
   "cell_type": "markdown",
   "metadata": {},
   "source": [
    "Dikarenakan masalah pada data yang mempengaruhi jawaban dari ketiga pertanyaan bisnis hanya pada products_dataset yang memiliki missing values pada kolom product_category_name, saya akan fokus untuk menangani masalah tersebut."
   ]
  },
  {
   "cell_type": "code",
   "execution_count": 17,
   "metadata": {},
   "outputs": [
    {
     "name": "stdout",
     "output_type": "stream",
     "text": [
      "                             product_id product_category_name  \\\n",
      "105    a41e356c76fab66334f36de622ecbd3a                   NaN   \n",
      "128    d8dee61c2034d6d075997acef1870e9b                   NaN   \n",
      "145    56139431d72cd51f19eb9f7dae4d1617                   NaN   \n",
      "154    46b48281eb6d663ced748f324108c733                   NaN   \n",
      "197    5fb61f482620cb672f5e586bb132eae9                   NaN   \n",
      "...                                 ...                   ...   \n",
      "32515  b0a0c5dd78e644373b199380612c350a                   NaN   \n",
      "32589  10dbe0fbaa2c505123c17fdc34a63c56                   NaN   \n",
      "32616  bd2ada37b58ae94cc838b9c0569fecd8                   NaN   \n",
      "32772  fa51e914046aab32764c41356b9d4ea4                   NaN   \n",
      "32852  c4ceee876c82b8328e9c293fa0e1989b                   NaN   \n",
      "\n",
      "       product_name_lenght  product_description_lenght  product_photos_qty  \\\n",
      "105                    NaN                         NaN                 NaN   \n",
      "128                    NaN                         NaN                 NaN   \n",
      "145                    NaN                         NaN                 NaN   \n",
      "154                    NaN                         NaN                 NaN   \n",
      "197                    NaN                         NaN                 NaN   \n",
      "...                    ...                         ...                 ...   \n",
      "32515                  NaN                         NaN                 NaN   \n",
      "32589                  NaN                         NaN                 NaN   \n",
      "32616                  NaN                         NaN                 NaN   \n",
      "32772                  NaN                         NaN                 NaN   \n",
      "32852                  NaN                         NaN                 NaN   \n",
      "\n",
      "       product_weight_g  product_length_cm  product_height_cm  \\\n",
      "105               650.0               17.0               14.0   \n",
      "128               300.0               16.0                7.0   \n",
      "145               200.0               20.0               20.0   \n",
      "154             18500.0               41.0               30.0   \n",
      "197               300.0               35.0                7.0   \n",
      "...                 ...                ...                ...   \n",
      "32515            1800.0               30.0               20.0   \n",
      "32589             800.0               30.0               10.0   \n",
      "32616             200.0               21.0                8.0   \n",
      "32772            1300.0               45.0               16.0   \n",
      "32852             700.0               28.0                3.0   \n",
      "\n",
      "       product_width_cm  \n",
      "105                12.0  \n",
      "128                20.0  \n",
      "145                20.0  \n",
      "154                41.0  \n",
      "197                12.0  \n",
      "...                 ...  \n",
      "32515              70.0  \n",
      "32589              23.0  \n",
      "32616              16.0  \n",
      "32772              45.0  \n",
      "32852              43.0  \n",
      "\n",
      "[610 rows x 9 columns]\n"
     ]
    }
   ],
   "source": [
    "# Memeriksa missing values pada products table\n",
    "\n",
    "products_na = products_df[products_df.product_category_name.isna()] # Jika hanya menggunakan kode ini table missing values akan ikut ke dalam streamlit app \n",
    "\n",
    "# Menampilkan hanya dataframe yang memiliki miising values\n",
    "\n",
    "print(products_na)"
   ]
  },
  {
   "cell_type": "code",
   "execution_count": null,
   "metadata": {},
   "outputs": [],
   "source": []
  },
  {
   "cell_type": "code",
   "execution_count": 18,
   "metadata": {},
   "outputs": [
    {
     "name": "stdout",
     "output_type": "stream",
     "text": [
      "1.8512336499650999\n"
     ]
    }
   ],
   "source": [
    "# Menghitung persentase missing values dari total data product_category_name \n",
    "\n",
    "na_count = products_df['product_category_name'].isna().sum()\n",
    "na_percentage = na_count / len(products_df['product_category_name']) * 100\n",
    "print(na_percentage)"
   ]
  },
  {
   "cell_type": "markdown",
   "metadata": {},
   "source": [
    "Dari hasil pemeriksaan diatas, kolom-kolom yang mendeskripsikan kategori produk juga memiliki missing values (product_name_lenght, product_description_lenght, product_photos_qty) maka dari itu nama kategori produk sangat sulit untuk diprediksi. Persentase dari missing values yang ada juga kurang dari 2%, maka saya memutuskan untuk menghapus data yang mengandung missing values agar tidak membuat bias dan memperumit hasil pengolahan data."
   ]
  },
  {
   "cell_type": "code",
   "execution_count": 19,
   "metadata": {},
   "outputs": [
    {
     "name": "stdout",
     "output_type": "stream",
     "text": [
      "<class 'pandas.core.frame.DataFrame'>\n",
      "Index: 32341 entries, 0 to 32950\n",
      "Data columns (total 9 columns):\n",
      " #   Column                      Non-Null Count  Dtype  \n",
      "---  ------                      --------------  -----  \n",
      " 0   product_id                  32341 non-null  object \n",
      " 1   product_category_name       32341 non-null  object \n",
      " 2   product_name_lenght         32341 non-null  float64\n",
      " 3   product_description_lenght  32341 non-null  float64\n",
      " 4   product_photos_qty          32341 non-null  float64\n",
      " 5   product_weight_g            32340 non-null  float64\n",
      " 6   product_length_cm           32340 non-null  float64\n",
      " 7   product_height_cm           32340 non-null  float64\n",
      " 8   product_width_cm            32340 non-null  float64\n",
      "dtypes: float64(7), object(2)\n",
      "memory usage: 2.5+ MB\n"
     ]
    }
   ],
   "source": [
    "# Menghapus data yang mengandung missing values\n",
    "\n",
    "products_df = products_df.dropna(subset=['product_category_name'])\n",
    "products_df.info()"
   ]
  },
  {
   "cell_type": "markdown",
   "metadata": {},
   "source": [
    "Setelah menghapus missing values dari kolom product_category_name maka data sudah bisa digunakan untuk mencari jawaban dari pertanyaan nomor 3."
   ]
  },
  {
   "cell_type": "markdown",
   "metadata": {},
   "source": [
    "## Exploratory Data Analysis (EDA)"
   ]
  },
  {
   "cell_type": "markdown",
   "metadata": {},
   "source": [
    "### 1. Explore order_payments_df"
   ]
  },
  {
   "cell_type": "code",
   "execution_count": 20,
   "metadata": {},
   "outputs": [
    {
     "name": "stdout",
     "output_type": "stream",
     "text": [
      "payment_type\n",
      "credit_card    76795\n",
      "boleto         19784\n",
      "voucher         5775\n",
      "debit_card      1529\n",
      "not_defined        3\n",
      "Name: count, dtype: int64\n"
     ]
    }
   ],
   "source": [
    "# Menghitung frekuensi munculnya tiap tipe pembayaran\n",
    "\n",
    "payment_counts = order_payments_df['payment_type'].value_counts()\n",
    "print(payment_counts)"
   ]
  },
  {
   "cell_type": "code",
   "execution_count": 21,
   "metadata": {},
   "outputs": [
    {
     "name": "stdout",
     "output_type": "stream",
     "text": [
      "Metode pembayaran paling banyak digunakan adalah: credit_card dengan jumlah penggunaan 76795 kali\n"
     ]
    }
   ],
   "source": [
    "# Mencari tipe pembayaran terbanyak\n",
    "\n",
    "most_used_payment = payment_counts.idxmax()\n",
    "\n",
    "# Menghitung total penggunaan\n",
    "\n",
    "total_used = payment_counts.max()\n",
    "\n",
    "# Tampilkan hasil\n",
    "\n",
    "print(\"Metode pembayaran paling banyak digunakan adalah:\", most_used_payment, \"dengan jumlah penggunaan\", total_used, \"kali\")"
   ]
  },
  {
   "cell_type": "markdown",
   "metadata": {},
   "source": [
    "### 2. Explore orders_df & order_payments_df"
   ]
  },
  {
   "cell_type": "code",
   "execution_count": 22,
   "metadata": {},
   "outputs": [
    {
     "data": {
      "text/html": [
       "<div>\n",
       "<style scoped>\n",
       "    .dataframe tbody tr th:only-of-type {\n",
       "        vertical-align: middle;\n",
       "    }\n",
       "\n",
       "    .dataframe tbody tr th {\n",
       "        vertical-align: top;\n",
       "    }\n",
       "\n",
       "    .dataframe thead th {\n",
       "        text-align: right;\n",
       "    }\n",
       "</style>\n",
       "<table border=\"1\" class=\"dataframe\">\n",
       "  <thead>\n",
       "    <tr style=\"text-align: right;\">\n",
       "      <th></th>\n",
       "      <th>order_id</th>\n",
       "      <th>customer_id</th>\n",
       "      <th>order_status</th>\n",
       "      <th>order_purchase_timestamp</th>\n",
       "      <th>order_approved_at</th>\n",
       "      <th>order_delivered_carrier_date</th>\n",
       "      <th>order_delivered_customer_date</th>\n",
       "      <th>order_estimated_delivery_date</th>\n",
       "      <th>payment_sequential</th>\n",
       "      <th>payment_type</th>\n",
       "      <th>payment_installments</th>\n",
       "      <th>payment_value</th>\n",
       "    </tr>\n",
       "  </thead>\n",
       "  <tbody>\n",
       "    <tr>\n",
       "      <th>0</th>\n",
       "      <td>e481f51cbdc54678b7cc49136f2d6af7</td>\n",
       "      <td>9ef432eb6251297304e76186b10a928d</td>\n",
       "      <td>delivered</td>\n",
       "      <td>2017-10-02 10:56:33</td>\n",
       "      <td>2017-10-02 11:07:15</td>\n",
       "      <td>2017-10-04 19:55:00</td>\n",
       "      <td>2017-10-10 21:25:13</td>\n",
       "      <td>2017-10-18 00:00:00</td>\n",
       "      <td>1</td>\n",
       "      <td>credit_card</td>\n",
       "      <td>1</td>\n",
       "      <td>18.12</td>\n",
       "    </tr>\n",
       "    <tr>\n",
       "      <th>1</th>\n",
       "      <td>e481f51cbdc54678b7cc49136f2d6af7</td>\n",
       "      <td>9ef432eb6251297304e76186b10a928d</td>\n",
       "      <td>delivered</td>\n",
       "      <td>2017-10-02 10:56:33</td>\n",
       "      <td>2017-10-02 11:07:15</td>\n",
       "      <td>2017-10-04 19:55:00</td>\n",
       "      <td>2017-10-10 21:25:13</td>\n",
       "      <td>2017-10-18 00:00:00</td>\n",
       "      <td>3</td>\n",
       "      <td>voucher</td>\n",
       "      <td>1</td>\n",
       "      <td>2.00</td>\n",
       "    </tr>\n",
       "    <tr>\n",
       "      <th>2</th>\n",
       "      <td>e481f51cbdc54678b7cc49136f2d6af7</td>\n",
       "      <td>9ef432eb6251297304e76186b10a928d</td>\n",
       "      <td>delivered</td>\n",
       "      <td>2017-10-02 10:56:33</td>\n",
       "      <td>2017-10-02 11:07:15</td>\n",
       "      <td>2017-10-04 19:55:00</td>\n",
       "      <td>2017-10-10 21:25:13</td>\n",
       "      <td>2017-10-18 00:00:00</td>\n",
       "      <td>2</td>\n",
       "      <td>voucher</td>\n",
       "      <td>1</td>\n",
       "      <td>18.59</td>\n",
       "    </tr>\n",
       "    <tr>\n",
       "      <th>3</th>\n",
       "      <td>53cdb2fc8bc7dce0b6741e2150273451</td>\n",
       "      <td>b0830fb4747a6c6d20dea0b8c802d7ef</td>\n",
       "      <td>delivered</td>\n",
       "      <td>2018-07-24 20:41:37</td>\n",
       "      <td>2018-07-26 03:24:27</td>\n",
       "      <td>2018-07-26 14:31:00</td>\n",
       "      <td>2018-08-07 15:27:45</td>\n",
       "      <td>2018-08-13 00:00:00</td>\n",
       "      <td>1</td>\n",
       "      <td>boleto</td>\n",
       "      <td>1</td>\n",
       "      <td>141.46</td>\n",
       "    </tr>\n",
       "    <tr>\n",
       "      <th>4</th>\n",
       "      <td>47770eb9100c2d0c44946d9cf07ec65d</td>\n",
       "      <td>41ce2a54c0b03bf3443c3d931a367089</td>\n",
       "      <td>delivered</td>\n",
       "      <td>2018-08-08 08:38:49</td>\n",
       "      <td>2018-08-08 08:55:23</td>\n",
       "      <td>2018-08-08 13:50:00</td>\n",
       "      <td>2018-08-17 18:06:29</td>\n",
       "      <td>2018-09-04 00:00:00</td>\n",
       "      <td>1</td>\n",
       "      <td>credit_card</td>\n",
       "      <td>3</td>\n",
       "      <td>179.12</td>\n",
       "    </tr>\n",
       "  </tbody>\n",
       "</table>\n",
       "</div>"
      ],
      "text/plain": [
       "                           order_id                       customer_id  \\\n",
       "0  e481f51cbdc54678b7cc49136f2d6af7  9ef432eb6251297304e76186b10a928d   \n",
       "1  e481f51cbdc54678b7cc49136f2d6af7  9ef432eb6251297304e76186b10a928d   \n",
       "2  e481f51cbdc54678b7cc49136f2d6af7  9ef432eb6251297304e76186b10a928d   \n",
       "3  53cdb2fc8bc7dce0b6741e2150273451  b0830fb4747a6c6d20dea0b8c802d7ef   \n",
       "4  47770eb9100c2d0c44946d9cf07ec65d  41ce2a54c0b03bf3443c3d931a367089   \n",
       "\n",
       "  order_status order_purchase_timestamp    order_approved_at  \\\n",
       "0    delivered      2017-10-02 10:56:33  2017-10-02 11:07:15   \n",
       "1    delivered      2017-10-02 10:56:33  2017-10-02 11:07:15   \n",
       "2    delivered      2017-10-02 10:56:33  2017-10-02 11:07:15   \n",
       "3    delivered      2018-07-24 20:41:37  2018-07-26 03:24:27   \n",
       "4    delivered      2018-08-08 08:38:49  2018-08-08 08:55:23   \n",
       "\n",
       "  order_delivered_carrier_date order_delivered_customer_date  \\\n",
       "0          2017-10-04 19:55:00           2017-10-10 21:25:13   \n",
       "1          2017-10-04 19:55:00           2017-10-10 21:25:13   \n",
       "2          2017-10-04 19:55:00           2017-10-10 21:25:13   \n",
       "3          2018-07-26 14:31:00           2018-08-07 15:27:45   \n",
       "4          2018-08-08 13:50:00           2018-08-17 18:06:29   \n",
       "\n",
       "  order_estimated_delivery_date  payment_sequential payment_type  \\\n",
       "0           2017-10-18 00:00:00                   1  credit_card   \n",
       "1           2017-10-18 00:00:00                   3      voucher   \n",
       "2           2017-10-18 00:00:00                   2      voucher   \n",
       "3           2018-08-13 00:00:00                   1       boleto   \n",
       "4           2018-09-04 00:00:00                   1  credit_card   \n",
       "\n",
       "   payment_installments  payment_value  \n",
       "0                     1          18.12  \n",
       "1                     1           2.00  \n",
       "2                     1          18.59  \n",
       "3                     1         141.46  \n",
       "4                     3         179.12  "
      ]
     },
     "execution_count": 22,
     "metadata": {},
     "output_type": "execute_result"
    }
   ],
   "source": [
    "# Menggabungkan dataset orders dan order_payments\n",
    "\n",
    "merged_payments_df = pd.merge(orders_df, order_payments_df, on=['order_id'], how='inner')\n",
    "merged_payments_df.head()"
   ]
  },
  {
   "cell_type": "code",
   "execution_count": 23,
   "metadata": {},
   "outputs": [
    {
     "name": "stdout",
     "output_type": "stream",
     "text": [
      "                            customer_id  payment_value\n",
      "0      00012a2ce6f8dcda20d059ce98491703         114.74\n",
      "1      000161a058600d5901f007fab4c27140          67.41\n",
      "2      0001fd6190edaaf884bcaf3d49edf079         195.42\n",
      "3      0002414f95344307404f0ace7a26f1d5         179.35\n",
      "4      000379cdec625522490c315e70c7a9fb         107.01\n",
      "...                                 ...            ...\n",
      "99435  fffecc9f79fd8c764f843e9951b11341          81.36\n",
      "99436  fffeda5b6d849fbd39689bb92087f431          63.13\n",
      "99437  ffff42319e9b2d713724ae527742af25         214.13\n",
      "99438  ffffa3172527f765de70084a7e53aae8          45.50\n",
      "99439  ffffe8b65bbe3087b653a978c870db99          18.37\n",
      "\n",
      "[99440 rows x 2 columns]\n"
     ]
    }
   ],
   "source": [
    "# Mengetahui total uang yang dibelanjakan oleh setiap pelanggan\n",
    "\n",
    "monetary_df = merged_payments_df.groupby('customer_id')['payment_value'].sum().reset_index()\n",
    "\n",
    "# Menampilkan total uang yang dibelanjakan oleh pelanggan\n",
    "\n",
    "print(monetary_df)"
   ]
  },
  {
   "cell_type": "code",
   "execution_count": 24,
   "metadata": {},
   "outputs": [
    {
     "name": "stdout",
     "output_type": "stream",
     "text": [
      "160.9902666934835\n"
     ]
    }
   ],
   "source": [
    "# Menghitung rata-rata uang yang dibelanjakan oleh pelanggan pada satu kali transaksi\n",
    "\n",
    "avg_payment_per_order = merged_payments_df.groupby(['customer_id', 'order_id'])['payment_value'].sum().mean()\n",
    "\n",
    "# Menampilkan rata-rata uang yang dibelanjakan oleh pelanggan pada satu kali transaksi\n",
    "\n",
    "print(avg_payment_per_order)"
   ]
  },
  {
   "cell_type": "code",
   "execution_count": 25,
   "metadata": {},
   "outputs": [
    {
     "name": "stdout",
     "output_type": "stream",
     "text": [
      "                            customer_id  payment_value  segment\n",
      "0      00012a2ce6f8dcda20d059ce98491703         114.74     gold\n",
      "1      000161a058600d5901f007fab4c27140          67.41   silver\n",
      "2      0001fd6190edaaf884bcaf3d49edf079         195.42  diamond\n",
      "3      0002414f95344307404f0ace7a26f1d5         179.35  diamond\n",
      "4      000379cdec625522490c315e70c7a9fb         107.01     gold\n",
      "...                                 ...            ...      ...\n",
      "99435  fffecc9f79fd8c764f843e9951b11341          81.36     gold\n",
      "99436  fffeda5b6d849fbd39689bb92087f431          63.13   silver\n",
      "99437  ffff42319e9b2d713724ae527742af25         214.13  diamond\n",
      "99438  ffffa3172527f765de70084a7e53aae8          45.50   silver\n",
      "99439  ffffe8b65bbe3087b653a978c870db99          18.37   bronze\n",
      "\n",
      "[99440 rows x 3 columns]\n"
     ]
    }
   ],
   "source": [
    "# Membuat fungsi untuk menentukan segmentasi pelanggan\n",
    "\n",
    "def customer_segment(payment):\n",
    "    if payment < 40:\n",
    "        return 'bronze'\n",
    "    elif payment >= 40 and payment < 80:\n",
    "        return 'silver'\n",
    "    elif payment >= 80 and payment < 160:\n",
    "        return 'gold'\n",
    "    else:\n",
    "        return 'diamond'\n",
    "\n",
    "# Menambahkan kolom segmen ke dalam DataFrame\n",
    "\n",
    "monetary_df['segment'] = monetary_df['payment_value'].apply(customer_segment)\n",
    "\n",
    "# Menampilkan total belanja pelanggan beserta segmentasinya\n",
    "\n",
    "print(monetary_df)"
   ]
  },
  {
   "cell_type": "code",
   "execution_count": 26,
   "metadata": {},
   "outputs": [
    {
     "data": {
      "text/html": [
       "<div>\n",
       "<style scoped>\n",
       "    .dataframe tbody tr th:only-of-type {\n",
       "        vertical-align: middle;\n",
       "    }\n",
       "\n",
       "    .dataframe tbody tr th {\n",
       "        vertical-align: top;\n",
       "    }\n",
       "\n",
       "    .dataframe thead th {\n",
       "        text-align: right;\n",
       "    }\n",
       "</style>\n",
       "<table border=\"1\" class=\"dataframe\">\n",
       "  <thead>\n",
       "    <tr style=\"text-align: right;\">\n",
       "      <th></th>\n",
       "      <th>customer_id</th>\n",
       "      <th>payment_value</th>\n",
       "      <th>segment</th>\n",
       "    </tr>\n",
       "  </thead>\n",
       "  <tbody>\n",
       "    <tr>\n",
       "      <th>0</th>\n",
       "      <td>00012a2ce6f8dcda20d059ce98491703</td>\n",
       "      <td>114.74</td>\n",
       "      <td>gold</td>\n",
       "    </tr>\n",
       "    <tr>\n",
       "      <th>1</th>\n",
       "      <td>000161a058600d5901f007fab4c27140</td>\n",
       "      <td>67.41</td>\n",
       "      <td>silver</td>\n",
       "    </tr>\n",
       "    <tr>\n",
       "      <th>2</th>\n",
       "      <td>0001fd6190edaaf884bcaf3d49edf079</td>\n",
       "      <td>195.42</td>\n",
       "      <td>diamond</td>\n",
       "    </tr>\n",
       "    <tr>\n",
       "      <th>3</th>\n",
       "      <td>0002414f95344307404f0ace7a26f1d5</td>\n",
       "      <td>179.35</td>\n",
       "      <td>diamond</td>\n",
       "    </tr>\n",
       "    <tr>\n",
       "      <th>4</th>\n",
       "      <td>000379cdec625522490c315e70c7a9fb</td>\n",
       "      <td>107.01</td>\n",
       "      <td>gold</td>\n",
       "    </tr>\n",
       "  </tbody>\n",
       "</table>\n",
       "</div>"
      ],
      "text/plain": [
       "                        customer_id  payment_value  segment\n",
       "0  00012a2ce6f8dcda20d059ce98491703         114.74     gold\n",
       "1  000161a058600d5901f007fab4c27140          67.41   silver\n",
       "2  0001fd6190edaaf884bcaf3d49edf079         195.42  diamond\n",
       "3  0002414f95344307404f0ace7a26f1d5         179.35  diamond\n",
       "4  000379cdec625522490c315e70c7a9fb         107.01     gold"
      ]
     },
     "execution_count": 26,
     "metadata": {},
     "output_type": "execute_result"
    }
   ],
   "source": [
    "# Menampilkan tabel total belanja pelanggan beserta segmentasinya\n",
    "\n",
    "monetary_df.head()"
   ]
  },
  {
   "cell_type": "markdown",
   "metadata": {},
   "source": [
    "### 3. Explore orders_df, order_items_df, order_payments_df, & products_df"
   ]
  },
  {
   "cell_type": "code",
   "execution_count": 27,
   "metadata": {},
   "outputs": [
    {
     "name": "stdout",
     "output_type": "stream",
     "text": [
      "Jumlah kategori: 73\n"
     ]
    }
   ],
   "source": [
    "# Memeriksa jumlah kategori\n",
    "\n",
    "total_category = products_df['product_category_name'].nunique()\n",
    "print(\"Jumlah kategori:\", total_category)"
   ]
  },
  {
   "cell_type": "code",
   "execution_count": 28,
   "metadata": {},
   "outputs": [
    {
     "data": {
      "text/html": [
       "<div>\n",
       "<style scoped>\n",
       "    .dataframe tbody tr th:only-of-type {\n",
       "        vertical-align: middle;\n",
       "    }\n",
       "\n",
       "    .dataframe tbody tr th {\n",
       "        vertical-align: top;\n",
       "    }\n",
       "\n",
       "    .dataframe thead th {\n",
       "        text-align: right;\n",
       "    }\n",
       "</style>\n",
       "<table border=\"1\" class=\"dataframe\">\n",
       "  <thead>\n",
       "    <tr style=\"text-align: right;\">\n",
       "      <th></th>\n",
       "      <th>product_category_name</th>\n",
       "      <th>qty_sold</th>\n",
       "    </tr>\n",
       "  </thead>\n",
       "  <tbody>\n",
       "    <tr>\n",
       "      <th>0</th>\n",
       "      <td>cama_mesa_banho</td>\n",
       "      <td>10953</td>\n",
       "    </tr>\n",
       "    <tr>\n",
       "      <th>1</th>\n",
       "      <td>beleza_saude</td>\n",
       "      <td>9465</td>\n",
       "    </tr>\n",
       "    <tr>\n",
       "      <th>2</th>\n",
       "      <td>esporte_lazer</td>\n",
       "      <td>8431</td>\n",
       "    </tr>\n",
       "    <tr>\n",
       "      <th>3</th>\n",
       "      <td>moveis_decoracao</td>\n",
       "      <td>8160</td>\n",
       "    </tr>\n",
       "    <tr>\n",
       "      <th>4</th>\n",
       "      <td>informatica_acessorios</td>\n",
       "      <td>7644</td>\n",
       "    </tr>\n",
       "    <tr>\n",
       "      <th>5</th>\n",
       "      <td>utilidades_domesticas</td>\n",
       "      <td>6795</td>\n",
       "    </tr>\n",
       "    <tr>\n",
       "      <th>6</th>\n",
       "      <td>relogios_presentes</td>\n",
       "      <td>5859</td>\n",
       "    </tr>\n",
       "    <tr>\n",
       "      <th>7</th>\n",
       "      <td>telefonia</td>\n",
       "      <td>4430</td>\n",
       "    </tr>\n",
       "    <tr>\n",
       "      <th>8</th>\n",
       "      <td>ferramentas_jardim</td>\n",
       "      <td>4268</td>\n",
       "    </tr>\n",
       "    <tr>\n",
       "      <th>9</th>\n",
       "      <td>automotivo</td>\n",
       "      <td>4140</td>\n",
       "    </tr>\n",
       "  </tbody>\n",
       "</table>\n",
       "</div>"
      ],
      "text/plain": [
       "    product_category_name  qty_sold\n",
       "0         cama_mesa_banho     10953\n",
       "1            beleza_saude      9465\n",
       "2           esporte_lazer      8431\n",
       "3        moveis_decoracao      8160\n",
       "4  informatica_acessorios      7644\n",
       "5   utilidades_domesticas      6795\n",
       "6      relogios_presentes      5859\n",
       "7               telefonia      4430\n",
       "8      ferramentas_jardim      4268\n",
       "9              automotivo      4140"
      ]
     },
     "execution_count": 28,
     "metadata": {},
     "output_type": "execute_result"
    }
   ],
   "source": [
    "# Menggabungkan data dari ketiga dataset\n",
    "\n",
    "merged_df = pd.merge(orders_df, order_items_df, on='order_id')\n",
    "merged_all = pd.merge(merged_df, products_df, on='product_id')\n",
    "\n",
    "# Filter hanya pesanan dengan order_status \"delivered\"\n",
    "\n",
    "delivered_df = merged_all[merged_all['order_status'] == 'delivered']\n",
    "\n",
    "# Menghitung jumlah produk yang terjual per kategori produk\n",
    "\n",
    "product_category_sales = delivered_df['product_category_name'].value_counts().reset_index()\n",
    "product_category_sales.columns = ['product_category_name', 'qty_sold']\n",
    "\n",
    "# Menampilkan jumlaah produk yang terjual per kategori produk\n",
    "\n",
    "product_category_sales.head(10)"
   ]
  },
  {
   "cell_type": "code",
   "execution_count": 29,
   "metadata": {},
   "outputs": [
    {
     "data": {
      "text/html": [
       "<div>\n",
       "<style scoped>\n",
       "    .dataframe tbody tr th:only-of-type {\n",
       "        vertical-align: middle;\n",
       "    }\n",
       "\n",
       "    .dataframe tbody tr th {\n",
       "        vertical-align: top;\n",
       "    }\n",
       "\n",
       "    .dataframe thead th {\n",
       "        text-align: right;\n",
       "    }\n",
       "</style>\n",
       "<table border=\"1\" class=\"dataframe\">\n",
       "  <thead>\n",
       "    <tr style=\"text-align: right;\">\n",
       "      <th></th>\n",
       "      <th>product_category_name</th>\n",
       "      <th>qty_sold</th>\n",
       "    </tr>\n",
       "  </thead>\n",
       "  <tbody>\n",
       "    <tr>\n",
       "      <th>63</th>\n",
       "      <td>flores</td>\n",
       "      <td>33</td>\n",
       "    </tr>\n",
       "    <tr>\n",
       "      <th>64</th>\n",
       "      <td>casa_conforto_2</td>\n",
       "      <td>30</td>\n",
       "    </tr>\n",
       "    <tr>\n",
       "      <th>65</th>\n",
       "      <td>fashion_esporte</td>\n",
       "      <td>29</td>\n",
       "    </tr>\n",
       "    <tr>\n",
       "      <th>66</th>\n",
       "      <td>artes_e_artesanato</td>\n",
       "      <td>24</td>\n",
       "    </tr>\n",
       "    <tr>\n",
       "      <th>67</th>\n",
       "      <td>cds_dvds_musicais</td>\n",
       "      <td>14</td>\n",
       "    </tr>\n",
       "    <tr>\n",
       "      <th>68</th>\n",
       "      <td>la_cuisine</td>\n",
       "      <td>14</td>\n",
       "    </tr>\n",
       "    <tr>\n",
       "      <th>69</th>\n",
       "      <td>portateis_cozinha_e_preparadores_de_alimentos</td>\n",
       "      <td>14</td>\n",
       "    </tr>\n",
       "    <tr>\n",
       "      <th>70</th>\n",
       "      <td>pc_gamer</td>\n",
       "      <td>8</td>\n",
       "    </tr>\n",
       "    <tr>\n",
       "      <th>71</th>\n",
       "      <td>fashion_roupa_infanto_juvenil</td>\n",
       "      <td>7</td>\n",
       "    </tr>\n",
       "    <tr>\n",
       "      <th>72</th>\n",
       "      <td>seguros_e_servicos</td>\n",
       "      <td>2</td>\n",
       "    </tr>\n",
       "  </tbody>\n",
       "</table>\n",
       "</div>"
      ],
      "text/plain": [
       "                            product_category_name  qty_sold\n",
       "63                                         flores        33\n",
       "64                                casa_conforto_2        30\n",
       "65                                fashion_esporte        29\n",
       "66                             artes_e_artesanato        24\n",
       "67                              cds_dvds_musicais        14\n",
       "68                                     la_cuisine        14\n",
       "69  portateis_cozinha_e_preparadores_de_alimentos        14\n",
       "70                                       pc_gamer         8\n",
       "71                  fashion_roupa_infanto_juvenil         7\n",
       "72                             seguros_e_servicos         2"
      ]
     },
     "execution_count": 29,
     "metadata": {},
     "output_type": "execute_result"
    }
   ],
   "source": [
    "# Menampilkan jumlaah produk yang terjual per kategori produk dengan penjualan paling sedikit\n",
    "\n",
    "product_category_sales.tail(10)"
   ]
  },
  {
   "cell_type": "code",
   "execution_count": 30,
   "metadata": {},
   "outputs": [
    {
     "name": "stdout",
     "output_type": "stream",
     "text": [
      "Kategori produk yang paling banyak terjual adalah: cama_mesa_banho\n",
      "Kategori produk yang paling sedikit terjual adalah: seguros_e_servicos\n"
     ]
    }
   ],
   "source": [
    "# Mencari kategori dengan penjualan paling banyak\n",
    "\n",
    "most_sold = product_category_sales.loc[product_category_sales['qty_sold'].idxmax()]\n",
    "\n",
    "# Mencari kategori dengan penjualan paling sedikit\n",
    "\n",
    "least_sold = product_category_sales.loc[product_category_sales['qty_sold'].idxmin()]\n",
    "\n",
    "# Menampilkan kategori dengan penjualan paling banyak\n",
    "\n",
    "print(\"Kategori produk yang paling banyak terjual adalah:\", most_sold['product_category_name'])\n",
    "\n",
    "# Menampilkan kategori dengan penjualan paling sedikit\n",
    "\n",
    "print(\"Kategori produk yang paling sedikit terjual adalah:\", least_sold['product_category_name'])"
   ]
  },
  {
   "cell_type": "code",
   "execution_count": null,
   "metadata": {},
   "outputs": [],
   "source": []
  },
  {
   "cell_type": "markdown",
   "metadata": {},
   "source": [
    "## Visualization & Explanatory Analysis"
   ]
  },
  {
   "cell_type": "markdown",
   "metadata": {},
   "source": [
    "### Pertanyaan 1: "
   ]
  },
  {
   "cell_type": "code",
   "execution_count": 31,
   "metadata": {},
   "outputs": [
    {
     "data": {
      "image/png": "[encoded data removed]",
      "text/plain": [
       "<Figure size 1000x600 with 1 Axes>"
      ]
     },
     "metadata": {},
     "output_type": "display_data"
    }
   ],
   "source": [
    "# Visualisasi Metode Pembayaaran\n",
    "\n",
    "plt.figure(figsize=(10, 6))\n",
    "payment_counts.plot(kind='bar', color='skyblue')\n",
    "plt.title('Metode Pembayaran Yang Paling Banyak Digunakan')\n",
    "plt.xlabel('Metode Pembayaran')\n",
    "plt.ylabel('Jumlah Penggunaan')\n",
    "plt.xticks(rotation=45)\n",
    "\n",
    "# Menambahkan angka di atas setiap batang\n",
    "\n",
    "for i, v in enumerate(payment_counts):\n",
    "    plt.text(i, v, str(v), ha='center', va='bottom')\n",
    "\n",
    "# Menampilkan grafik\n",
    "\n",
    "plt.show()"
   ]
  },
  {
   "cell_type": "markdown",
   "metadata": {},
   "source": [
    "#### Explanatory Analysis: \n",
    "\n",
    "Berdasarkan hasil analisis, metode pembayaran yang paling banyak digunakan adalah kartu kredit dengan jumlah penggunaan 76.795 kali. Metode pembayaran lainnya yang juga cukup populer adalah boleto dengan jumlah penggunaan 19.784 kali dan voucher dengan jumlah penggunaan 5.775 kali.\n",
    "\n",
    "Grafik di atas menunjukkan bahwa metode pembayaran kartu kredit mendominasi transaksi penjualan. Hal ini menunjukkan bahwa konsumen lebih memilih untuk menggunakan kartu kredit untuk melakukan pembayaran dari padaa metode yang lainnya."
   ]
  },
  {
   "cell_type": "code",
   "execution_count": null,
   "metadata": {},
   "outputs": [],
   "source": []
  },
  {
   "cell_type": "markdown",
   "metadata": {},
   "source": [
    "### Pertanyaan 2: "
   ]
  },
  {
   "cell_type": "code",
   "execution_count": 32,
   "metadata": {},
   "outputs": [
    {
     "data": {
      "image/png": "[encoded data removed]",
      "text/plain": [
       "<Figure size 800x800 with 1 Axes>"
      ]
     },
     "metadata": {},
     "output_type": "display_data"
    }
   ],
   "source": [
    "# Visualisasi segmentasi pelanggan\n",
    "\n",
    "segment_counts = monetary_df['segment'].value_counts()\n",
    "plt.figure(figsize=(8, 8))\n",
    "sns.countplot(data=monetary_df, x='segment', order=segment_counts.index)\n",
    "plt.xlabel(\"Segmen\")\n",
    "plt.ylabel(\"Jumlah Pelanggan\")\n",
    "plt.title(\"Distribusi Segmentasi Pelanggan\")\n",
    "\n",
    "# Menambahkan angka penjualan pada tiap batang\n",
    "\n",
    "for i, v in enumerate(segment_counts):\n",
    "    plt.text(i, v, str(v), ha='center', va='bottom')\n",
    "\n",
    "# Menampilkan grafik\n",
    "\n",
    "plt.show()"
   ]
  },
  {
   "cell_type": "markdown",
   "metadata": {},
   "source": [
    "#### Explanatory Analysis: \n",
    "\n",
    "Berdasarkan hasil analisis, segmentasi pelanggan dibagi menjadi 4 segmen yaitu bronze, silver, gold, dan diamond. Grafik di atas menunjukkan bahwa pelanggan paling banyak adalah pelanggan dengan segmentasi gold (menghabiskan 80-160 dalam satu kali transaksi) dengan jumlah transaksi 32.988 kali, disusul oleh segmen diamond (menghabiskan lebih dari 160 dalam satu kali transaksi) dengan jumlah transaksi 29.498. Segmen bronze (menghabiskan dibawah 40 dalam satu kali transaksi) dengan jumlah transaksi sebesar 10.114 kali."
   ]
  },
  {
   "cell_type": "code",
   "execution_count": null,
   "metadata": {},
   "outputs": [],
   "source": []
  },
  {
   "cell_type": "markdown",
   "metadata": {},
   "source": [
    "### Pertanyaan 3: "
   ]
  },
  {
   "cell_type": "code",
   "execution_count": 33,
   "metadata": {},
   "outputs": [
    {
     "data": {
      "image/png": "[encoded data removed]",
      "text/plain": [
       "<Figure size 1200x600 with 1 Axes>"
      ]
     },
     "metadata": {},
     "output_type": "display_data"
    }
   ],
   "source": [
    "# Membuat grafik batang dengan Seaborn untuk 10 kategori dengan penjualan paling banyak\n",
    "\n",
    "plt.figure(figsize=(12, 6))\n",
    "sns.barplot(x='qty_sold', y='product_category_name', data=product_category_sales.head(10), palette='viridis')\n",
    "plt.xlabel('Jumlah Terjual')\n",
    "plt.ylabel('Kategori Produk')\n",
    "plt.title('10 Kategori Produk dengan Penjualan Paling Banyak')\n",
    "\n",
    "# Menambahkan angka penjualan pada tiap batang\n",
    "\n",
    "for i, qty in enumerate(product_category_sales['qty_sold'].head(10)):\n",
    "    plt.text(qty, i, f'{qty}', va='center')\n",
    "\n",
    "# Menampilkan grafik\n",
    "\n",
    "plt.show()"
   ]
  },
  {
   "cell_type": "code",
   "execution_count": 34,
   "metadata": {},
   "outputs": [
    {
     "data": {
      "image/png": "[encoded data removed]",
      "text/plain": [
       "<Figure size 1200x600 with 1 Axes>"
      ]
     },
     "metadata": {},
     "output_type": "display_data"
    }
   ],
   "source": [
    "# Membuat grafik batang dengan Seaborn untuk 10 kategori dengan penjualan paling sedikit\n",
    "\n",
    "plt.figure(figsize=(12, 6))\n",
    "sns.barplot(x='qty_sold', y='product_category_name', data=product_category_sales.tail(10), palette='viridis')\n",
    "plt.xlabel('Jumlah Terjual')\n",
    "plt.ylabel('Kategori Produk')\n",
    "plt.title('10 Kategori Produk dengan Penjualan Paling Sedikit')\n",
    "\n",
    "# Menambahkan angka penjualan pada tiap batang\n",
    "\n",
    "for i, qty in enumerate(product_category_sales['qty_sold'].tail(10)):\n",
    "    plt.text(qty, i, f'{qty}', va='center')\n",
    "\n",
    "# Menampilkan grafik\n",
    "\n",
    "plt.show()"
   ]
  },
  {
   "cell_type": "markdown",
   "metadata": {},
   "source": [
    "#### Explanatory Analysis: \n",
    "\n",
    "Pada 2 grafik diatas terlihat bahwa kategori produk yang paling banyak terjual adalah cama_mesa_banho dengan jumlah pembelian sebanyak 10953 kali, sedangkan yang palik sedikit adalah seguros_e_servicos dengan hanya 2 kali penjualan. 5 kategori teratas ditempati oleh kategori-kategori seperti cama mesa banho, beleza saude, esporte lazer, moveiz decoracao, informatica acessorios (bed bath table, beauty health, sport leisure, furniture decoration, IT accessories) yang berhubungan dengan produk gaya hidup dan dekorasi."
   ]
  },
  {
   "cell_type": "code",
   "execution_count": null,
   "metadata": {},
   "outputs": [],
   "source": []
  },
  {
   "cell_type": "markdown",
   "metadata": {},
   "source": [
    "## Conclusion"
   ]
  },
  {
   "cell_type": "markdown",
   "metadata": {},
   "source": [
    "##### Kesimpulan Pertanyaan 1:\n",
    "\n",
    "Dari hasil EDA pada **order_payments_df** diketahui bahwa tipe pembayaran yang paling banyak digunakan untuk pembelian di E-Commerce adalah **credit_card** (kartu kredit).\n",
    "\n",
    "Beberapa hal yang bisa dilakukan dengan perusahaaan dengan data ini adalah:\n",
    "- **Memberikan promosi Khusus:** Perusahaan dapat membuat promosi atau insentif khusus untuk pengguna kartu kredit. Ini bisa mencakup penawaran diskon khusus, cashback, atau hadiah untuk pengguna kartu kredit. \n",
    "- **Meningkatkan keamanan:** Karena kartu kredit adalah metode pembayaran yang populer, perusahaan perlu memastikan bahwa sistem pembayaran mereka aman.\n",
    "- **Optimisasi proses pembayaran:** Dengan mengetahui bahwa kartu kredit adalah metode pembayaran yang paling sering digunakan, perusahaan dapat memperbaiki dan mengoptimalkan proses pembayaran dengan kartu kredit."
   ]
  },
  {
   "cell_type": "markdown",
   "metadata": {},
   "source": [
    "##### Kesimpulan Pertanyaan 2:"
   ]
  },
  {
   "cell_type": "markdown",
   "metadata": {},
   "source": [
    "Dari hasil EDA pada **orders_df dan order_payments_df** diketahui jumlah uang yang dihabiskan tiap pelanggan dan rata-rata uang yang dihabiskan pada satu kali transaksi yaitu sebesar **160** (dibulatkan ke bawah). Diketahui pula bahwa jumlah pelanggan yang paling banyak adalah pelanggan dengan segmen **gold** dengan jumlah pelanggan sebanyak **32988** orang.\n",
    "\n",
    "Beberapa hal yang bisa dilakukan dengan perusahaaan dengan data ini adalah:\n",
    "\n",
    "- **Memahami perilaku pelanggan:** Dengan mengetahui total uang yang dibelanjakan oleh setiap pelanggan dan rata-rata uang yang dibelanjakan oleh pelanggan pada satu kali transaksi, perusahaan dapat memahami perilaku pelanggan mereka. Perusahaan dapat menggunakan informasi ini untuk membuat keputusan tentang strategi pemasaran dan penjualan mereka, seperti memberikan voucher khusus untuk pembelian dengan nominal diatas 160.\n",
    "- **Menentukan pelanggan VIP:** Perusahaan dapat menggunakan data ini untuk menentukan pelanggan VIP mereka. Pelanggan VIP adalah pelanggan yang melakukaan transaksi dengan nominal lebih dari 160. Perusahaan dapat memberikan layanan khusus kepada pelanggan VIP ini untuk meningkatkan kepuasan mereka dan mendorong mereka untuk terus berbelanja."
   ]
  },
  {
   "cell_type": "markdown",
   "metadata": {},
   "source": [
    "##### Kesimpulan Pertanyaan 3:"
   ]
  },
  {
   "cell_type": "markdown",
   "metadata": {},
   "source": [
    "Dari hasil EDA untuk pertanyaan nomer 3 kategori dengan penjualan paling banyak adalah **cama_mesa_banho** (bed table bath) dengan total penjualan **10953** kali dan kategori produk dengan penjualan paling sedikit adalah **seguros_e_servicos** (insurance and services)  dengan hanya **2** penjualan.\n",
    "\n",
    "Beberapa hal yang bisa dilakukan dengan perusahaaan dengan data ini adalah:\n",
    "\n",
    "- **Mengetahui kategori yang paling diminati:** Dengan data ini perusahaan dapat mengetahui kategori produk mana yang paling diminati oleh pelanggan (kategori produk terbanyak) dan kategori produk mana yang perlu diperhatikan atau mungkin ditingkatkan penjualannya (kategori produk terendah). \n",
    "- **Membuat keputusan strategis:** Ini dapat membantu perusahaan dalam pengambilan keputusan strategis terkait stok, pemasaran, dan pengembangan produk. Selain itu, analisis semacam ini juga dapat digunakan untuk mengidentifikasi tren dan peluang bisnis baru."
   ]
  },
  {
   "cell_type": "code",
   "execution_count": null,
   "metadata": {},
   "outputs": [],
   "source": []
  }
 ],
 "metadata": {
  "kernelspec": {
   "display_name": "Python 3 (ipykernel)",
   "language": "python",
   "name": "python3"
  },
  "language_info": {
   "codemirror_mode": {
    "name": "ipython",
    "version": 3
   },
   "file_extension": ".py",
   "mimetype": "text/x-python",
   "name": "python",
   "nbconvert_exporter": "python",
   "pygments_lexer": "ipython3",
   "version": "3.11.5"
  },
  "vscode": {
   "interpreter": {
    "hash": "972b3bf27e332e87b5379f2791f6ef9dfc79c71018c370b0d7423235e20fe4d7"
   }
  }
 },
 "nbformat": 4,
 "nbformat_minor": 2
}
